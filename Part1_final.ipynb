{
 "metadata": {
  "name": ""
 },
 "nbformat": 3,
 "nbformat_minor": 0,
 "worksheets": [
  {
   "cells": [
    {
     "cell_type": "raw",
     "metadata": {},
     "source": [
      "http://nbviewer.ipython.org/github/ryanfoxsquire/publiccode/blob/master/Part1_final.ipynb"
     ]
    },
    {
     "cell_type": "code",
     "collapsed": false,
     "input": [
      "import pandas as pd\n",
      "import math\n",
      "import numpy as np\n",
      "from __future__ import division\n",
      "from scipy.stats import chi2_contingency # super handy\n"
     ],
     "language": "python",
     "metadata": {},
     "outputs": [],
     "prompt_number": 3
    },
    {
     "cell_type": "code",
     "collapsed": false,
     "input": [
      "\n",
      "\n",
      "results_dict = {\n",
      "        'version': [1,2,3],\n",
      "        'Visitors': [998832, 1012285, 995750], \n",
      "        'Registrations': [331912, 349643, 320432], \n",
      "        'Purchases': [18255, 18531, 18585]\n",
      "        }\n",
      "        # provided by Daniel, manually copied\n",
      "        \n",
      "results = pd.DataFrame(results_dict, index = [1,2,3])\n",
      "results.set_index('version')\n",
      "\n",
      "results['reg_rate'] = results.Registrations / results.Visitors\n",
      "results['purch_rate'] = results.Purchases / results.Visitors\n",
      "results['no_reg'] = results.Visitors - results.Registrations\n",
      "results['no_purch'] = results.Visitors - results.Purchases\n",
      "col_order = [u'Visitors',u'Registrations', 'no_reg', u'reg_rate',u'Purchases', 'no_purch', u'purch_rate']\n",
      "results = results[col_order]\n",
      "results.head(3)"
     ],
     "language": "python",
     "metadata": {},
     "outputs": [
      {
       "html": [
        "<div style=\"max-height:1000px;max-width:1500px;overflow:auto;\">\n",
        "<table border=\"1\" class=\"dataframe\">\n",
        "  <thead>\n",
        "    <tr style=\"text-align: right;\">\n",
        "      <th></th>\n",
        "      <th>Visitors</th>\n",
        "      <th>Registrations</th>\n",
        "      <th>no_reg</th>\n",
        "      <th>reg_rate</th>\n",
        "      <th>Purchases</th>\n",
        "      <th>no_purch</th>\n",
        "      <th>purch_rate</th>\n",
        "    </tr>\n",
        "  </thead>\n",
        "  <tbody>\n",
        "    <tr>\n",
        "      <th>1</th>\n",
        "      <td>  998832</td>\n",
        "      <td> 331912</td>\n",
        "      <td> 666920</td>\n",
        "      <td> 0.3323</td>\n",
        "      <td> 18255</td>\n",
        "      <td> 980577</td>\n",
        "      <td> 0.018276</td>\n",
        "    </tr>\n",
        "    <tr>\n",
        "      <th>2</th>\n",
        "      <td> 1012285</td>\n",
        "      <td> 349643</td>\n",
        "      <td> 662642</td>\n",
        "      <td> 0.3454</td>\n",
        "      <td> 18531</td>\n",
        "      <td> 993754</td>\n",
        "      <td> 0.018306</td>\n",
        "    </tr>\n",
        "    <tr>\n",
        "      <th>3</th>\n",
        "      <td>  995750</td>\n",
        "      <td> 320432</td>\n",
        "      <td> 675318</td>\n",
        "      <td> 0.3218</td>\n",
        "      <td> 18585</td>\n",
        "      <td> 977165</td>\n",
        "      <td> 0.018664</td>\n",
        "    </tr>\n",
        "  </tbody>\n",
        "</table>\n",
        "</div>"
       ],
       "metadata": {},
       "output_type": "pyout",
       "prompt_number": 14,
       "text": [
        "   Visitors  Registrations  no_reg  reg_rate  Purchases  no_purch  purch_rate\n",
        "1    998832         331912  666920    0.3323      18255    980577    0.018276\n",
        "2   1012285         349643  662642    0.3454      18531    993754    0.018306\n",
        "3    995750         320432  675318    0.3218      18585    977165    0.018664"
       ]
      }
     ],
     "prompt_number": 14
    },
    {
     "cell_type": "code",
     "collapsed": false,
     "input": [
      "reg_df = results[['Registrations', 'no_reg']]\n",
      "purchase_df = results[['Purchases', 'no_purch']]"
     ],
     "language": "python",
     "metadata": {},
     "outputs": [],
     "prompt_number": 7
    },
    {
     "cell_type": "code",
     "collapsed": false,
     "input": [
      "versions = [1,3]\n",
      "reg_df.ix[versions]"
     ],
     "language": "python",
     "metadata": {},
     "outputs": [
      {
       "html": [
        "<div style=\"max-height:1000px;max-width:1500px;overflow:auto;\">\n",
        "<table border=\"1\" class=\"dataframe\">\n",
        "  <thead>\n",
        "    <tr style=\"text-align: right;\">\n",
        "      <th></th>\n",
        "      <th>Registrations</th>\n",
        "      <th>no_reg</th>\n",
        "    </tr>\n",
        "  </thead>\n",
        "  <tbody>\n",
        "    <tr>\n",
        "      <th>1</th>\n",
        "      <td> 331912</td>\n",
        "      <td> 666920</td>\n",
        "    </tr>\n",
        "    <tr>\n",
        "      <th>3</th>\n",
        "      <td> 320432</td>\n",
        "      <td> 675318</td>\n",
        "    </tr>\n",
        "  </tbody>\n",
        "</table>\n",
        "</div>"
       ],
       "metadata": {},
       "output_type": "pyout",
       "prompt_number": 18,
       "text": [
        "   Registrations  no_reg\n",
        "1         331912  666920\n",
        "3         320432  675318"
       ]
      }
     ],
     "prompt_number": 18
    },
    {
     "cell_type": "code",
     "collapsed": false,
     "input": [
      "print \"CHI2 EFFECTS FOR VERSION ON REGISTRATIONS\"\n",
      "for versions in [ [1,2], [2,3], [1,3]]:\n",
      "    chi2, p, dof, contigency = chi2_contingency(reg_df.ix[versions], correction = False) \n",
      "    print \"for version {0} vs {1}, Chi2: {2}, p = {3}\".format(versions[0], versions[1], chi2, p)"
     ],
     "language": "python",
     "metadata": {},
     "outputs": [
      {
       "output_type": "stream",
       "stream": "stdout",
       "text": [
        "CHI2 EFFECTS FOR VERSION ON REGISTRATIONS\n",
        "for version 1 vs 2, Chi2: 385.071724356, p = 9.79007765673e-86\n",
        "for version 2 vs 3, Chi2: 1257.43661696, p = 2.00890901772e-275\n",
        "for version 1 vs 3, Chi2: 249.808147083, p = 2.85933742318e-56\n"
       ]
      }
     ],
     "prompt_number": 25
    },
    {
     "cell_type": "code",
     "collapsed": false,
     "input": [
      "print \"CHI2 EFFECTS FOR VERSION ON PURCHASES\"\n",
      "for versions in [ [1,2], [2,3], [1,3]]:\n",
      "    chi2, p, dof, contigency = chi2_contingency(purchase_df.ix[versions], correction = False) \n",
      "    print \"for version {0} vs {1}, Chi2: {2}, p = {3}\".format(versions[0], versions[1], chi2, p)"
     ],
     "language": "python",
     "metadata": {},
     "outputs": [
      {
       "output_type": "stream",
       "stream": "stdout",
       "text": [
        "CHI2 EFFECTS FOR VERSION ON PURCHASES\n",
        "for version 1 vs 2, Chi2: 0.0248012690739, p = 0.874863269538\n",
        "for version 2 vs 3, Chi2: 3.55041721579, p = 0.059530480026\n",
        "for version 1 vs 3, Chi2: 4.14028890879, p = 0.0418740220969\n"
       ]
      }
     ],
     "prompt_number": 28
    }
   ],
   "metadata": {}
  }
 ]
}